{
 "cells": [
  {
   "cell_type": "code",
   "execution_count": 3,
   "id": "5f115d8f",
   "metadata": {},
   "outputs": [
    {
     "name": "stdout",
     "output_type": "stream",
     "text": [
      "Requirement already satisfied: bokeh in c:\\users\\hamza\\appdata\\local\\programs\\python\\python39\\lib\\site-packages (3.0.3)\n",
      "Requirement already satisfied: pillow>=7.1.0 in c:\\users\\hamza\\appdata\\local\\programs\\python\\python39\\lib\\site-packages (from bokeh) (8.3.1)\n",
      "Requirement already satisfied: numpy>=1.11.3 in c:\\users\\hamza\\appdata\\local\\programs\\python\\python39\\lib\\site-packages (from bokeh) (1.21.2)\n",
      "Requirement already satisfied: PyYAML>=3.10 in c:\\users\\hamza\\appdata\\local\\programs\\python\\python39\\lib\\site-packages (from bokeh) (6.0)\n",
      "Requirement already satisfied: xyzservices>=2021.09.1 in c:\\users\\hamza\\appdata\\local\\programs\\python\\python39\\lib\\site-packages (from bokeh) (2023.2.0)\n",
      "Requirement already satisfied: tornado>=5.1 in c:\\users\\hamza\\appdata\\local\\programs\\python\\python39\\lib\\site-packages (from bokeh) (6.1)\n",
      "Requirement already satisfied: Jinja2>=2.9 in c:\\users\\hamza\\appdata\\local\\programs\\python\\python39\\lib\\site-packages (from bokeh) (3.1.2)\n",
      "Requirement already satisfied: packaging>=16.8 in c:\\users\\hamza\\appdata\\local\\programs\\python\\python39\\lib\\site-packages (from bokeh) (21.0)\n",
      "Requirement already satisfied: contourpy>=1 in c:\\users\\hamza\\appdata\\local\\programs\\python\\python39\\lib\\site-packages (from bokeh) (1.0.7)\n",
      "Requirement already satisfied: pandas>=1.2 in c:\\users\\hamza\\appdata\\local\\programs\\python\\python39\\lib\\site-packages (from bokeh) (1.4.4)\n",
      "Requirement already satisfied: MarkupSafe>=2.0 in c:\\users\\hamza\\appdata\\local\\programs\\python\\python39\\lib\\site-packages (from Jinja2>=2.9->bokeh) (2.1.1)\n",
      "Requirement already satisfied: pyparsing>=2.0.2 in c:\\users\\hamza\\appdata\\local\\programs\\python\\python39\\lib\\site-packages (from packaging>=16.8->bokeh) (2.4.7)\n",
      "Requirement already satisfied: pytz>=2020.1 in c:\\users\\hamza\\appdata\\local\\programs\\python\\python39\\lib\\site-packages (from pandas>=1.2->bokeh) (2022.2.1)\n",
      "Requirement already satisfied: python-dateutil>=2.8.1 in c:\\users\\hamza\\appdata\\local\\programs\\python\\python39\\lib\\site-packages (from pandas>=1.2->bokeh) (2.8.1)\n",
      "Requirement already satisfied: six>=1.5 in c:\\users\\hamza\\appdata\\local\\programs\\python\\python39\\lib\\site-packages (from python-dateutil>=2.8.1->pandas>=1.2->bokeh) (1.15.0)\n"
     ]
    },
    {
     "name": "stderr",
     "output_type": "stream",
     "text": [
      "WARNING: You are using pip version 21.1.3; however, version 23.0.1 is available.\n",
      "You should consider upgrading via the 'c:\\users\\hamza\\appdata\\local\\programs\\python\\python39\\python.exe -m pip install --upgrade pip' command.\n"
     ]
    }
   ],
   "source": [
    "!pip3 install bokeh"
   ]
  },
  {
   "cell_type": "code",
   "execution_count": 8,
   "id": "94387efd",
   "metadata": {},
   "outputs": [],
   "source": [
    "from bokeh.io import output_file, show\n",
    "from bokeh.plotting import figure\n",
    "\n",
    "x = [1, 2, 3, 4, 5]\n",
    "y = [10, 20, 30, 45, 49]\n",
    "\n",
    "#normal line\n",
    "\n",
    "\n",
    "\n",
    "#triangle markers for line\n",
    "output_file(\"triangle_markers.html\")\n",
    "fig = figure()\n",
    "fig.triangle(x, y)\n",
    "show(fig)\n",
    "\n",
    "#circle markers for line\n",
    "output_file(\"circle_markers.html\")\n",
    "fig = figure()\n",
    "fig.circle(x, y)\n",
    "show(fig)\n"
   ]
  },
  {
   "cell_type": "code",
   "execution_count": null,
   "id": "7ccf152a",
   "metadata": {},
   "outputs": [],
   "source": []
  }
 ],
 "metadata": {
  "kernelspec": {
   "display_name": "Python 3 (ipykernel)",
   "language": "python",
   "name": "python3"
  },
  "language_info": {
   "codemirror_mode": {
    "name": "ipython",
    "version": 3
   },
   "file_extension": ".py",
   "mimetype": "text/x-python",
   "name": "python",
   "nbconvert_exporter": "python",
   "pygments_lexer": "ipython3",
   "version": "3.9.6"
  }
 },
 "nbformat": 4,
 "nbformat_minor": 5
}
