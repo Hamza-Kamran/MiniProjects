{
 "cells": [
  {
   "cell_type": "code",
   "execution_count": 3,
   "id": "96cc763a",
   "metadata": {},
   "outputs": [
    {
     "name": "stdout",
     "output_type": "stream",
     "text": [
      "Requirement already satisfied: bokeh in c:\\users\\hamza\\appdata\\local\\programs\\python\\python39\\lib\\site-packages (3.0.3)\n",
      "Requirement already satisfied: pillow>=7.1.0 in c:\\users\\hamza\\appdata\\local\\programs\\python\\python39\\lib\\site-packages (from bokeh) (8.3.1)\n",
      "Requirement already satisfied: numpy>=1.11.3 in c:\\users\\hamza\\appdata\\local\\programs\\python\\python39\\lib\\site-packages (from bokeh) (1.21.2)\n",
      "Requirement already satisfied: PyYAML>=3.10 in c:\\users\\hamza\\appdata\\local\\programs\\python\\python39\\lib\\site-packages (from bokeh) (6.0)\n",
      "Requirement already satisfied: xyzservices>=2021.09.1 in c:\\users\\hamza\\appdata\\local\\programs\\python\\python39\\lib\\site-packages (from bokeh) (2023.2.0)\n",
      "Requirement already satisfied: tornado>=5.1 in c:\\users\\hamza\\appdata\\local\\programs\\python\\python39\\lib\\site-packages (from bokeh) (6.1)\n",
      "Requirement already satisfied: Jinja2>=2.9 in c:\\users\\hamza\\appdata\\local\\programs\\python\\python39\\lib\\site-packages (from bokeh) (3.1.2)\n",
      "Requirement already satisfied: packaging>=16.8 in c:\\users\\hamza\\appdata\\local\\programs\\python\\python39\\lib\\site-packages (from bokeh) (21.0)\n",
      "Requirement already satisfied: contourpy>=1 in c:\\users\\hamza\\appdata\\local\\programs\\python\\python39\\lib\\site-packages (from bokeh) (1.0.7)\n",
      "Requirement already satisfied: pandas>=1.2 in c:\\users\\hamza\\appdata\\local\\programs\\python\\python39\\lib\\site-packages (from bokeh) (1.4.4)\n",
      "Requirement already satisfied: MarkupSafe>=2.0 in c:\\users\\hamza\\appdata\\local\\programs\\python\\python39\\lib\\site-packages (from Jinja2>=2.9->bokeh) (2.1.1)\n",
      "Requirement already satisfied: pyparsing>=2.0.2 in c:\\users\\hamza\\appdata\\local\\programs\\python\\python39\\lib\\site-packages (from packaging>=16.8->bokeh) (2.4.7)\n",
      "Requirement already satisfied: pytz>=2020.1 in c:\\users\\hamza\\appdata\\local\\programs\\python\\python39\\lib\\site-packages (from pandas>=1.2->bokeh) (2022.2.1)\n",
      "Requirement already satisfied: python-dateutil>=2.8.1 in c:\\users\\hamza\\appdata\\local\\programs\\python\\python39\\lib\\site-packages (from pandas>=1.2->bokeh) (2.8.1)\n",
      "Requirement already satisfied: six>=1.5 in c:\\users\\hamza\\appdata\\local\\programs\\python\\python39\\lib\\site-packages (from python-dateutil>=2.8.1->pandas>=1.2->bokeh) (1.15.0)\n"
     ]
    },
    {
     "name": "stderr",
     "output_type": "stream",
     "text": [
      "WARNING: You are using pip version 21.1.3; however, version 23.0.1 is available.\n",
      "You should consider upgrading via the 'c:\\users\\hamza\\appdata\\local\\programs\\python\\python39\\python.exe -m pip install --upgrade pip' command.\n"
     ]
    }
   ],
   "source": [
    "!pip3 install bokeh"
   ]
  },
  {
   "cell_type": "code",
   "execution_count": 10,
   "id": "eeb509d1",
   "metadata": {},
   "outputs": [],
   "source": [
    "from bokeh.io import output_file, show\n",
    "from bokeh.plotting import figure\n",
    "\n",
    "x = [1, 2, 3, 4, 5]\n",
    "y = [10, 20, 30, 45, 49]\n",
    "\n",
    "#normal line\n",
    "output_file(\"normal_line.html\")\n",
    "fig = figure()\n",
    "fig.line(x, y)\n",
    "show(fig)\n",
    "\n",
    "\n",
    "#triangle markers for line\n",
    "output_file(\"triangle_markers.html\")\n",
    "fig = figure()\n",
    "fig.triangle(x, y)\n",
    "show(fig)\n",
    "\n",
    "#circle markers for line\n",
    "output_file(\"circle_markers.html\")\n",
    "fig = figure()\n",
    "fig.circle(x, y)\n",
    "show(fig)\n"
   ]
  },
  {
   "cell_type": "code",
   "execution_count": 11,
   "id": "bf66fe9d",
   "metadata": {},
   "outputs": [],
   "source": [
    "from bokeh.io import output_file, show\n",
    "from bokeh.plotting import figure\n",
    "import pandas as pd\n",
    "\n",
    "b = pd.read_csv(\"bachelors.csv\")\n",
    "x = b[\"Year\"]\n",
    "y = b[\"Engineering\"]\n",
    "\n",
    "#normal line\n",
    "output_file(\"education.html\")\n",
    "fig = figure()\n",
    "fig.line(x, y)\n",
    "show(fig)\n",
    "\n"
   ]
  },
  {
   "cell_type": "code",
   "execution_count": 21,
   "id": "43dd232c",
   "metadata": {},
   "outputs": [],
   "source": [
    "from bokeh.io import output_file, show\n",
    "from bokeh.plotting import figure, output_file, show\n",
    "import pandas as pd\n",
    "\n",
    "weather = pd.read_excel(\"verlegenhuken.xlsx\")\n",
    "x = weather[\"Temperature\"] / 10\n",
    "y = weather[\"Pressure\"] / 10\n",
    "\n",
    "#normal line\n",
    "output_file(\"weather.html\")\n",
    "fig = figure(width=500, height=500)\n",
    "\n",
    "fig.title.text = \"Pressure vs Temperature\"\n",
    "fig.title.text_color = \"Blue\"\n",
    "fig.xaxis.axis_label = \"Temperature\"\n",
    "fig.yaxis.axis_label = \"Pressure\"\n",
    "\n",
    "\n",
    "fig.circle(x, y, size=0.5)\n",
    "show(fig)\n",
    "\n"
   ]
  },
  {
   "cell_type": "code",
   "execution_count": null,
   "id": "56a4214f",
   "metadata": {},
   "outputs": [],
   "source": []
  }
 ],
 "metadata": {
  "kernelspec": {
   "display_name": "Python 3 (ipykernel)",
   "language": "python",
   "name": "python3"
  },
  "language_info": {
   "codemirror_mode": {
    "name": "ipython",
    "version": 3
   },
   "file_extension": ".py",
   "mimetype": "text/x-python",
   "name": "python",
   "nbconvert_exporter": "python",
   "pygments_lexer": "ipython3",
   "version": "3.9.6"
  }
 },
 "nbformat": 4,
 "nbformat_minor": 5
}
